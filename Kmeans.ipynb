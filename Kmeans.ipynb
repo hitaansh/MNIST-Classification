{
 "cells": [
  {
   "cell_type": "code",
   "execution_count": 43,
   "metadata": {
    "collapsed": true
   },
   "outputs": [],
   "source": [
    "from sklearn.datasets import fetch_openml \n",
    "from sklearn.cluster import KMeans\n",
    "import time"
   ]
  },
  {
   "cell_type": "code",
   "execution_count": 44,
   "outputs": [],
   "source": [
    "def get_data():\n",
    "    mnist = fetch_openml('mnist_784', version=1)\n",
    "    images, labels = mnist[\"data\"], mnist[\"target\"]\n",
    "    images_train, image_test , labels_train, labels_test = images[:60000], images[60000:], labels[:60000], labels[60000:]\n",
    "    \n",
    "    return images_train, image_test , labels_train, labels_test    "
   ],
   "metadata": {
    "collapsed": false,
    "pycharm": {
     "name": "#%%\n"
    }
   }
  },
  {
   "cell_type": "code",
   "execution_count": 45,
   "outputs": [],
   "source": [
    "def classification(images, labels):\n",
    "    clustering = KMeans(n_clusters = 69, init = 'random')\n",
    "    model = clustering.fit(images)\n",
    "    \n",
    "    interpretation = {}\n",
    "    \n",
    "    for index in range(len(model.labels_)):\n",
    "        real_label = int(labels[index])\n",
    "        predicited_label = model.labels_[index]\n",
    "        if predicited_label in interpretation.keys():\n",
    "            label_votes = interpretation[predicited_label]\n",
    "            if real_label in label_votes:\n",
    "                vote_count = label_votes[real_label]\n",
    "                vote_count += 1\n",
    "                label_votes[real_label] = vote_count\n",
    "            else:\n",
    "                label_votes[real_label] = 1\n",
    "        else:\n",
    "            label_votes = {}\n",
    "            interpretation[predicited_label] = label_votes\n",
    "    \n",
    "    for label in interpretation.keys():\n",
    "        voting_counts = interpretation[label]\n",
    "        interpretation[label] = sorted(voting_counts.items(), key = lambda x:x[1], reverse=True)\n",
    "    \n",
    "    real_interpretation = {}\n",
    "    for predicited_label in interpretation.keys():\n",
    "        voting_counts = interpretation[predicited_label]\n",
    "        max_label = voting_counts[0][0]\n",
    "        real_interpretation[predicited_label] = max_label\n",
    "\n",
    "       \n",
    "    return model, real_interpretation"
   ],
   "metadata": {
    "collapsed": false,
    "pycharm": {
     "name": "#%%\n"
    }
   }
  },
  {
   "cell_type": "code",
   "execution_count": 46,
   "outputs": [],
   "source": [
    "def eval(model, test_images, test_labels, key):\n",
    "    correct_amount = 0\n",
    "    for index in range(len(test_images)):\n",
    "        image = [test_images[index]]\n",
    "        predicited_label = model.predict(image)[0]\n",
    "        if key[predicited_label] == int(test_labels[index]):\n",
    "            correct_amount += 1\n",
    "    accuracy = correct_amount / len(test_images)\n",
    "    return accuracy\n"
   ],
   "metadata": {
    "collapsed": false,
    "pycharm": {
     "name": "#%%\n"
    }
   }
  },
  {
   "cell_type": "code",
   "execution_count": 47,
   "outputs": [],
   "source": [
    "def printOutput(model, accuracy):\n",
    "    print(\"Predicited with an accuracy of {} percent\".format(accuracy * 100))\n",
    "\n",
    "    with open(\"clustercenters.txt\", 'w') as f:\n",
    "        for center in model.cluster_centers_:\n",
    "            print(center, file = f)\n",
    "\n",
    "    print(\"Written Cluster Centers to pre-exisitng file called clustercenters.txt\")\n",
    "\n",
    "\n",
    "\n"
   ],
   "metadata": {
    "collapsed": false,
    "pycharm": {
     "name": "#%%\n"
    }
   }
  },
  {
   "cell_type": "code",
   "execution_count": 48,
   "outputs": [
    {
     "name": "stdout",
     "output_type": "stream",
     "text": [
      "This program takes about 1.5 minutes to train and test\n",
      "I have attached a file called clustercenters.txt which contains my cluster centers\n",
      "I am using 100 clusters. 10 clusters were not enough to classify the MNIST numbers\n",
      "with high enough accuracy. The cluster centers in the file produce an accuracy\n",
      "of about 88.43%. Every time you run this program it will create and output new cluster centers.\n",
      "------------------------------------------------------------------------------------------\n",
      "Predicited with an accuracy of 85.28 percent\n",
      "Written Cluster Centers to pre-exisitng file called clustercenters.txt\n",
      "73.61689782142639\n"
     ]
    }
   ],
   "source": [
    "start_time = time.time()\n",
    "\n",
    "print(\"This program takes about 1.5 minutes to train and test\")\n",
    "print(\"I have attached a file called clustercenters.txt which contains my cluster centers\")\n",
    "print(\"I am using 100 clusters. 10 clusters were not enough to classify the MNIST numbers\")\n",
    "print(\"with high enough accuracy. The cluster centers in the file produce an accuracy\")\n",
    "print(\"of about 88.43%. Every time you run this program it will create and output new cluster centers.\")\n",
    "print(\"------------------------------------------------------------------------------------------\")\n",
    "\n",
    "images_train, image_test , labels_train, labels_test = get_data()\n",
    "model, key = classification(images_train, labels_train)\n",
    "accuracy = eval(model, image_test, labels_test, key)\n",
    "printOutput(model, accuracy)\n",
    "\n",
    "print(time.time() - start_time)\n",
    "\n",
    "\n"
   ],
   "metadata": {
    "collapsed": false,
    "pycharm": {
     "name": "#%%\n"
    }
   }
  }
 ],
 "metadata": {
  "kernelspec": {
   "name": "pycharm-df9a9636",
   "language": "python",
   "display_name": "PyCharm (7 ML)"
  },
  "language_info": {
   "codemirror_mode": {
    "name": "ipython",
    "version": 2
   },
   "file_extension": ".py",
   "mimetype": "text/x-python",
   "name": "python",
   "nbconvert_exporter": "python",
   "pygments_lexer": "ipython2",
   "version": "2.7.6"
  }
 },
 "nbformat": 4,
 "nbformat_minor": 0
}