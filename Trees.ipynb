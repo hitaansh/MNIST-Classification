{
 "cells": [
  {
   "cell_type": "code",
   "execution_count": 61,
   "metadata": {
    "collapsed": true
   },
   "outputs": [],
   "source": [
    "import time\n",
    "from sklearn.datasets import fetch_openml\n",
    "from sklearn.manifold import TSNE\n",
    "from sklearn.tree import DecisionTreeClassifier\n",
    "from sklearn.decomposition import PCA\n"
   ]
  },
  {
   "cell_type": "code",
   "execution_count": 62,
   "outputs": [
    {
     "name": "stdout",
     "output_type": "stream",
     "text": [
      "Got Data in 15.56997275352478 seconds\n"
     ]
    }
   ],
   "source": [
    "def get_data():\n",
    "    mnist = fetch_openml('mnist_784', version=1)\n",
    "    images, labels = mnist[\"data\"], mnist[\"target\"]\n",
    "\n",
    "    return images, labels\n",
    "\n",
    "start_time = time.time()\n",
    "images, labels = get_data()\n",
    "print(\"Got Data in {} seconds\".format(time.time() - start_time))"
   ],
   "metadata": {
    "collapsed": false,
    "pycharm": {
     "name": "#%%\n"
    }
   }
  },
  {
   "cell_type": "code",
   "execution_count": 63,
   "outputs": [
    {
     "name": "stdout",
     "output_type": "stream",
     "text": [
      "Reduced Dimensions in 578.3407952785492 seconds\n"
     ]
    }
   ],
   "source": [
    "def dimReduction(images, labels):\n",
    "    pca = PCA(n_components=40)\n",
    "    firstReduction = pca.fit_transform(images)\n",
    "    tsne = TSNE(n_components=2, perplexity=45)\n",
    "    finalImages = tsne.fit_transform(firstReduction)\n",
    "    images_train, image_test , labels_train, labels_test = finalImages[:60000], finalImages[60000:], labels[:60000], labels[60000:]\n",
    "\n",
    "    return images_train, image_test, labels_train, labels_test\n",
    "\n",
    "start_time = time.time()\n",
    "images_train, image_test , labels_train, labels_test = dimReduction(images, labels)\n",
    "print(\"Reduced Dimensions in {} seconds\".format(time.time() - start_time))\n"
   ],
   "metadata": {
    "collapsed": false,
    "pycharm": {
     "name": "#%%\n"
    }
   }
  },
  {
   "cell_type": "code",
   "execution_count": 64,
   "outputs": [
    {
     "name": "stdout",
     "output_type": "stream",
     "text": [
      "training.....\n",
      "Trained in 0.1466071605682373 seconds\n"
     ]
    }
   ],
   "source": [
    "def treemodel(images, labels):\n",
    "    print(\"training.....\")\n",
    "    tree = DecisionTreeClassifier(max_depth=10)\n",
    "    tree = tree.fit(images, labels)\n",
    "    return tree\n",
    "\n",
    "start_time = time.time()\n",
    "tree = treemodel(images_train, labels_train)\n",
    "print(\"Trained in {} seconds\".format(time.time() - start_time))"
   ],
   "metadata": {
    "collapsed": false,
    "pycharm": {
     "name": "#%%\n"
    }
   }
  },
  {
   "cell_type": "code",
   "execution_count": 69,
   "outputs": [
    {
     "name": "stdout",
     "output_type": "stream",
     "text": [
      "analyzing....\n",
      "Accuracy: 0.9709\n",
      "Analyzing took 0.47172093391418457 seconds\n"
     ]
    }
   ],
   "source": [
    "def analyze(model, images, labels):\n",
    "    print(\"analyzing....\")\n",
    "    correctly_predicted = 0\n",
    "    for i in range(len(images)):\n",
    "        image = [images[i]]\n",
    "        correct_label = labels[i]\n",
    "        predicted_label = model.predict(image)[0]\n",
    "        # print(\"Correct Label: {} Predicted Label: {}\".format(correct_label, predicted_label))\n",
    "        if int(correct_label) == int(predicted_label):\n",
    "            correctly_predicted += 1\n",
    "    accuracy = correctly_predicted/len(images)\n",
    "    print(\"Accuracy: {}\".format(accuracy))\n",
    "\n",
    "start_time = time.time()\n",
    "analyze(tree, image_test, labels_test)\n",
    "print(\"Analyzing took {} seconds\".format(time.time() - start_time))\n"
   ],
   "metadata": {
    "collapsed": false,
    "pycharm": {
     "name": "#%%\n"
    }
   }
  },
  {
   "cell_type": "code",
   "execution_count": null,
   "outputs": [],
   "source": [
    "\n"
   ],
   "metadata": {
    "collapsed": false,
    "pycharm": {
     "name": "#%%\n"
    }
   }
  }
 ],
 "metadata": {
  "kernelspec": {
   "name": "pycharm-df9a9636",
   "language": "python",
   "display_name": "PyCharm (7 ML)"
  },
  "language_info": {
   "codemirror_mode": {
    "name": "ipython",
    "version": 2
   },
   "file_extension": ".py",
   "mimetype": "text/x-python",
   "name": "python",
   "nbconvert_exporter": "python",
   "pygments_lexer": "ipython2",
   "version": "2.7.6"
  }
 },
 "nbformat": 4,
 "nbformat_minor": 0
}