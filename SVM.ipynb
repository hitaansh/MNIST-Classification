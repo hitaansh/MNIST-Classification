{
 "cells": [
  {
   "cell_type": "code",
   "execution_count": 23,
   "metadata": {
    "collapsed": true,
    "pycharm": {
     "is_executing": false
    }
   },
   "outputs": [],
   "source": [
    "from sklearn.datasets import fetch_openml \n",
    "from sklearn import svm\n",
    "import time"
   ]
  },
  {
   "cell_type": "code",
   "execution_count": 25,
   "outputs": [
    {
     "name": "stdout",
     "text": [
      "Got Data in 15.805767059326172 seconds\n"
     ],
     "output_type": "stream"
    }
   ],
   "source": [
    "def get_data():\n",
    "    mnist = fetch_openml('mnist_784', version=1)\n",
    "    images, labels = mnist[\"data\"], mnist[\"target\"]\n",
    "    images_train, image_test , labels_train, labels_test = images[:60000], images[60000:], labels[:60000], labels[60000:]\n",
    "    \n",
    "    return images_train, image_test , labels_train, labels_test  \n",
    "\n",
    "start_time = time.time()\n",
    "images_train, image_test , labels_train, labels_test = get_data()\n",
    "print(\"Got Data in {} seconds\".format(time.time() - start_time))\n"
   ],
   "metadata": {
    "collapsed": false,
    "pycharm": {
     "name": "#%%\n",
     "is_executing": false
    }
   }
  },
  {
   "cell_type": "code",
   "execution_count": 26,
   "outputs": [
    {
     "name": "stdout",
     "text": [
      "training.....\n",
      "Trained in 396.51092004776 seconds\n"
     ],
     "output_type": "stream"
    }
   ],
   "source": [
    "def train_SVM(images, labels): \n",
    "    print(\"training.....\")\n",
    "    svm_train = svm.SVC(kernel = \"rbf\")\n",
    "    model = svm_train.fit(images, labels)\n",
    "    \n",
    "    return model\n",
    "start_time = time.time()\n",
    "SVM = train_SVM(images_train, labels_train)\n",
    "print(\"Trained in {} seconds\".format(time.time() - start_time))"
   ],
   "metadata": {
    "collapsed": false,
    "pycharm": {
     "name": "#%%\n",
     "is_executing": false
    }
   }
  },
  {
   "cell_type": "code",
   "execution_count": 27,
   "outputs": [
    {
     "name": "stdout",
     "text": [
      "analyzing....\n",
      "Accuracy: 0.9792\nAnalyzing took 118.19187688827515 seconds\n"
     ],
     "output_type": "stream"
    }
   ],
   "source": [
    "def analyze(model, images, labels):\n",
    "    print(\"analyzing....\")\n",
    "    correctly_predicted = 0\n",
    "    for i in range(len(images)):\n",
    "        image = [images[i]]\n",
    "        correct_label = labels[i]\n",
    "        predicted_label = model.predict(image)[0]\n",
    "        # print(\"Correct Label: {} Predicted Label: {}\".format(correct_label, predicted_label))\n",
    "        if int(correct_label) == int(predicted_label):\n",
    "            correctly_predicted += 1\n",
    "    accuracy = correctly_predicted/len(images)\n",
    "    print(\"Accuracy: {}\".format(accuracy))\n",
    "    \n",
    "start_time = time.time()     \n",
    "analyze(SVM, image_test, labels_test)\n",
    "print(\"Analyzing took {} seconds\".format(time.time() - start_time))"
   ],
   "metadata": {
    "collapsed": false,
    "pycharm": {
     "name": "#%%\n",
     "is_executing": false
    }
   }
  },
  {
   "cell_type": "code",
   "execution_count": 19,
   "outputs": [],
   "source": [],
   "metadata": {
    "collapsed": false,
    "pycharm": {
     "name": "#%%\n",
     "is_executing": false
    }
   }
  }
 ],
 "metadata": {
  "kernelspec": {
   "display_name": "Python 3",
   "language": "python",
   "name": "python3"
  },
  "language_info": {
   "codemirror_mode": {
    "name": "ipython",
    "version": 2
   },
   "file_extension": ".py",
   "mimetype": "text/x-python",
   "name": "python",
   "nbconvert_exporter": "python",
   "pygments_lexer": "ipython2",
   "version": "2.7.6"
  },
  "pycharm": {
   "stem_cell": {
    "cell_type": "raw",
    "source": [],
    "metadata": {
     "collapsed": false
    }
   }
  }
 },
 "nbformat": 4,
 "nbformat_minor": 0
}