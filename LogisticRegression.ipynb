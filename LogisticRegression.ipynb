{
 "cells": [
  {
   "cell_type": "code",
   "execution_count": 1,
   "metadata": {
    "collapsed": true
   },
   "outputs": [],
   "source": [
    "\n",
    "from sklearn.datasets import fetch_openml\n",
    "from sklearn.linear_model import LogisticRegression\n",
    "import time\n",
    "import sys"
   ]
  },
  {
   "cell_type": "code",
   "execution_count": 2,
   "outputs": [
    {
     "name": "stdout",
     "output_type": "stream",
     "text": [
      "Got Data in 15.704034805297852 seconds\n"
     ]
    }
   ],
   "source": [
    "def get_data():\n",
    "    mnist = fetch_openml('mnist_784', version=1)\n",
    "    images, labels = mnist[\"data\"], mnist[\"target\"]\n",
    "    images_train, image_test , labels_train, labels_test = images[:60000], images[60000:], labels[:60000], labels[60000:]\n",
    "\n",
    "    return images_train, image_test , labels_train, labels_test\n",
    "\n",
    "start_time = time.time()\n",
    "images_train, image_test , labels_train, labels_test = get_data()\n",
    "print(\"Got Data in {} seconds\".format(time.time() - start_time))"
   ],
   "metadata": {
    "collapsed": false,
    "pycharm": {
     "name": "#%%\n"
    }
   }
  },
  {
   "cell_type": "code",
   "execution_count": 3,
   "outputs": [
    {
     "name": "stdout",
     "output_type": "stream",
     "text": [
      "training.....\n",
      "Trained in 171.7836058139801 seconds\n"
     ]
    },
    {
     "name": "stderr",
     "output_type": "stream",
     "text": [
      "F:\\Senior Year\\7 ML\\venv\\lib\\site-packages\\sklearn\\linear_model\\_sag.py:329: ConvergenceWarning: The max_iter was reached which means the coef_ did not converge\n",
      "  warnings.warn(\"The max_iter was reached which means \"\n"
     ]
    }
   ],
   "source": [
    "def logistic(images, labels):\n",
    "    print(\"training.....\")\n",
    "    logistic_reg = LogisticRegression(solver= \"saga\", n_jobs=-1)\n",
    "    model = logistic_reg.fit(images, labels)\n",
    "\n",
    "    return model\n",
    "\n",
    "start_time = time.time()\n",
    "logreg = logistic(images_train, labels_train)\n",
    "print(\"Trained in {} seconds\".format(time.time() - start_time))"
   ],
   "metadata": {
    "collapsed": false,
    "pycharm": {
     "name": "#%%\n"
    }
   }
  },
  {
   "cell_type": "code",
   "execution_count": 4,
   "outputs": [
    {
     "name": "stdout",
     "output_type": "stream",
     "text": [
      "analyzing....\n",
      "Accuracy: 0.9257\n",
      "Analyzing took 0.5576748847961426 seconds\n"
     ]
    }
   ],
   "source": [
    "def analyze(model, images, labels):\n",
    "    print(\"analyzing....\")\n",
    "    correctly_predicted = 0\n",
    "    for i in range(len(images)):\n",
    "        image = [images[i]]\n",
    "        correct_label = labels[i]\n",
    "        predicted_label = model.predict(image)[0]\n",
    "        # print(\"Correct Label: {} Predicted Label: {}\".format(correct_label, predicted_label))\n",
    "        if int(correct_label) == int(predicted_label):\n",
    "            correctly_predicted += 1\n",
    "    accuracy = correctly_predicted/len(images)\n",
    "    print(\"Accuracy: {}\".format(accuracy))\n",
    "\n",
    "start_time = time.time()\n",
    "analyze(logreg, image_test, labels_test)\n",
    "print(\"Analyzing took {} seconds\".format(time.time() - start_time))"
   ],
   "metadata": {
    "collapsed": false,
    "pycharm": {
     "name": "#%%\n"
    }
   }
  },
  {
   "cell_type": "code",
   "execution_count": 4,
   "outputs": [],
   "source": [],
   "metadata": {
    "collapsed": false,
    "pycharm": {
     "name": "#%%\n"
    }
   }
  },
  {
   "cell_type": "code",
   "execution_count": null,
   "outputs": [],
   "source": [
    "\n"
   ],
   "metadata": {
    "collapsed": false,
    "pycharm": {
     "name": "#%%\n"
    }
   }
  }
 ],
 "metadata": {
  "kernelspec": {
   "name": "pycharm-df9a9636",
   "language": "python",
   "display_name": "PyCharm (7 ML)"
  },
  "language_info": {
   "codemirror_mode": {
    "name": "ipython",
    "version": 2
   },
   "file_extension": ".py",
   "mimetype": "text/x-python",
   "name": "python",
   "nbconvert_exporter": "python",
   "pygments_lexer": "ipython2",
   "version": "2.7.6"
  }
 },
 "nbformat": 4,
 "nbformat_minor": 0
}